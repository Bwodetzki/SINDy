{
 "cells": [
  {
   "cell_type": "markdown",
   "metadata": {},
   "source": [
    "# This code replicates original SINDy as well as variants with different methods of optimization\n",
    "\n",
    "Structure:\n",
    "- Original SINDy Implementation\n",
    "- Original LASSO Regression\n",
    "- Base Proximal Optimization Algorithm\n",
    "- SR3 Algorithm\n",
    "- SR3 Applied to SINDy"
   ]
  },
  {
   "cell_type": "code",
   "execution_count": null,
   "metadata": {},
   "outputs": [],
   "source": []
  }
 ],
 "metadata": {
  "language_info": {
   "name": "python"
  },
  "orig_nbformat": 4
 },
 "nbformat": 4,
 "nbformat_minor": 2
}
